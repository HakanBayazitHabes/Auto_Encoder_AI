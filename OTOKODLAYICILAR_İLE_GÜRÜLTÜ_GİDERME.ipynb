{
  "nbformat": 4,
  "nbformat_minor": 0,
  "metadata": {
    "kernelspec": {
      "display_name": "Python 3",
      "name": "python3"
    },
    "language_info": {
      "codemirror_mode": {
        "name": "ipython",
        "version": 3
      },
      "file_extension": ".py",
      "mimetype": "text/x-python",
      "name": "python",
      "nbconvert_exporter": "python",
      "pygments_lexer": "ipython3",
      "version": "3.4.3"
    },
    "colab": {
      "provenance": [],
      "gpuType": "T4",
      "include_colab_link": true
    },
    "accelerator": "GPU"
  },
  "cells": [
    {
      "cell_type": "markdown",
      "metadata": {
        "id": "view-in-github",
        "colab_type": "text"
      },
      "source": [
        "<a href=\"https://colab.research.google.com/github/HakanBayazitHabes/Auto_Encoder_AI/blob/master/OTOKODLAYICILAR_I%CC%87LE_GU%CC%88RU%CC%88LTU%CC%88_GI%CC%87DERME.ipynb\" target=\"_parent\"><img src=\"https://colab.research.google.com/assets/colab-badge.svg\" alt=\"Open In Colab\"/></a>"
      ]
    },
    {
      "cell_type": "markdown",
      "metadata": {
        "id": "vQHkq_DaCIxM"
      },
      "source": [
        "# OTOKODLAYICILAR\n",
        "\n",
        "![](https://cdn.evrimagaci.org/bm2R8z2LCChlqzJNXp5EwbTaZiw=/825x0/filters:no_upscale()/evrimagaci.org%2Fpublic%2Fcontent_media%2F8ee347b9bc1ee90bf1db8f9c00217b5f.png)\n",
        "\n",
        "![](https://miro.medium.com/max/605/1*stpRRU3tUaOtTjRqh24v0w.png)"
      ]
    },
    {
      "cell_type": "code",
      "metadata": {
        "id": "A-WE4tqfKpNF",
        "colab": {
          "base_uri": "https://localhost:8080/"
        },
        "outputId": "da33233e-4fb0-418e-8dee-d756b2d9b4e7"
      },
      "source": [
        "from google.colab import drive\n",
        "drive.mount('/gdrive')\n",
        "%cd /gdrive"
      ],
      "execution_count": 1,
      "outputs": [
        {
          "output_type": "stream",
          "name": "stdout",
          "text": [
            "Mounted at /gdrive\n",
            "/gdrive\n"
          ]
        }
      ]
    },
    {
      "cell_type": "markdown",
      "metadata": {
        "id": "b89j54Tr4v8v"
      },
      "source": [
        "Kütüphane Kurulumları"
      ]
    },
    {
      "cell_type": "code",
      "metadata": {
        "id": "Ac0Zwh0fZ8M1"
      },
      "source": [
        "from keras.layers import Input, Dense, Conv2D, MaxPooling2D, UpSampling2D\n",
        "from keras.models import Model\n",
        "from keras.callbacks import TensorBoard\n",
        "from keras.datasets import mnist\n",
        "import numpy as np\n",
        "from keras import backend as K\n",
        "import matplotlib.pyplot as plt"
      ],
      "execution_count": 2,
      "outputs": []
    },
    {
      "cell_type": "markdown",
      "metadata": {
        "id": "Qk-PTSBZEc-6"
      },
      "source": [
        "Veri Kümesini Oluşturmak ve Ayırmak"
      ]
    },
    {
      "cell_type": "code",
      "metadata": {
        "id": "_l8pFzjJEg_N",
        "colab": {
          "base_uri": "https://localhost:8080/"
        },
        "outputId": "7de62348-1171-4c22-f827-57029a14ca74"
      },
      "source": [
        "(x_train, _), (x_test, _) = mnist.load_data()"
      ],
      "execution_count": 3,
      "outputs": [
        {
          "output_type": "stream",
          "name": "stdout",
          "text": [
            "Downloading data from https://storage.googleapis.com/tensorflow/tf-keras-datasets/mnist.npz\n",
            "11490434/11490434 [==============================] - 1s 0us/step\n"
          ]
        }
      ]
    },
    {
      "cell_type": "code",
      "metadata": {
        "id": "IhP3vN4FE2eR"
      },
      "source": [
        "x_train = x_train.astype('float32') / 255\n",
        "x_test = x_test.astype('float32') / 255\n",
        "\n",
        "x_train = np.reshape (x_train, (len(x_train), 28, 28, 1))\n",
        "x_test =  np.reshape (x_test, (len(x_test), 28, 28, 1))"
      ],
      "execution_count": 4,
      "outputs": []
    },
    {
      "cell_type": "code",
      "metadata": {
        "id": "OfNATQxALn3j",
        "colab": {
          "base_uri": "https://localhost:8080/"
        },
        "outputId": "5ae7713c-d5f0-4cfe-b78a-a6ab8911ed41"
      },
      "source": [
        "print('Eğtiim',x_train.shape)\n",
        "print('Test', x_test.shape)"
      ],
      "execution_count": 5,
      "outputs": [
        {
          "output_type": "stream",
          "name": "stdout",
          "text": [
            "Eğtiim (60000, 28, 28, 1)\n",
            "Test (10000, 28, 28, 1)\n"
          ]
        }
      ]
    },
    {
      "cell_type": "markdown",
      "metadata": {
        "id": "aDoDqUFc46YD"
      },
      "source": [
        "Veriye Gürültü Ekleme Adımı"
      ]
    },
    {
      "cell_type": "code",
      "metadata": {
        "id": "WFbVsaJBZ8M7"
      },
      "source": [
        "noise_factor = 0.5\n",
        "\n",
        "x_train_noisy = x_train + noise_factor * np.random.normal(loc = 0.0, scale = 1.0, size = x_train.shape)\n",
        "x_test_noisy = x_test + noise_factor * np.random.normal(loc = 0.0, scale = 1.0, size = x_test.shape)\n",
        "\n",
        "x_train_noisy = np.clip(x_train_noisy, 0. ,1.)\n",
        "x_test_noisy = np.clip(x_test_noisy, 0. ,1.)"
      ],
      "execution_count": 6,
      "outputs": []
    },
    {
      "cell_type": "markdown",
      "metadata": {
        "id": "79KdEgVYMvGB"
      },
      "source": [
        "Gürültülü Veriyi Görselleştirme"
      ]
    },
    {
      "cell_type": "code",
      "metadata": {
        "id": "8z7HyjlOMzHl",
        "colab": {
          "base_uri": "https://localhost:8080/",
          "height": 141
        },
        "outputId": "93dd3b4f-8d99-4dff-eae0-ff8bef416a83"
      },
      "source": [
        "%matplotlib inline\n",
        "\n",
        "n = 10\n",
        "\n",
        "plt.figure(figsize = (25,4))\n",
        "\n",
        "for i in range(n):\n",
        "  ax = plt.subplot(2, n, i+1)\n",
        "  plt.imshow(x_test_noisy[i].reshape(28,28))\n",
        "  plt.gray()\n",
        "  ax.get_xaxis().set_visible(False)\n",
        "  ax.get_yaxis().set_visible(False)\n",
        "plt.show()\n",
        "print('gürültülü orijinal görüntüler')"
      ],
      "execution_count": 7,
      "outputs": [
        {
          "output_type": "display_data",
          "data": {
            "text/plain": [
              "<Figure size 2500x400 with 10 Axes>"
            ],
            "image/png": "[encoded data removed]"
          },
          "metadata": {}
        },
        {
          "output_type": "stream",
          "name": "stdout",
          "text": [
            "gürültülü orijinal görüntüler\n"
          ]
        }
      ]
    },
    {
      "cell_type": "markdown",
      "metadata": {
        "id": "Ss7DfOF449zY"
      },
      "source": [
        "ENCODE Modeli"
      ]
    },
    {
      "cell_type": "code",
      "metadata": {
        "id": "hgqHjtbrZ8M-"
      },
      "source": [
        "input_img = Input(shape = (28, 28, 1))\n",
        "\n",
        "x = Conv2D(32, (3,3), activation='relu', padding='same')(input_img)\n",
        "\n",
        "x = MaxPooling2D((2,2), padding='same')(x)\n",
        "\n",
        "x = Conv2D(32, (3,3), activation='relu', padding='same')(x)\n",
        "\n",
        "encoded = MaxPooling2D((2,2), padding='same')(x)\n",
        "\n",
        "# (7, 7, 32)"
      ],
      "execution_count": 8,
      "outputs": []
    },
    {
      "cell_type": "markdown",
      "metadata": {
        "id": "txRkgDFh5I3V"
      },
      "source": [
        "DECODE Modeli"
      ]
    },
    {
      "cell_type": "code",
      "metadata": {
        "id": "y3n9eP3m5IZN"
      },
      "source": [
        "x = Conv2D(32, (3,3), activation='relu', padding='same')(encoded)\n",
        "\n",
        "x = UpSampling2D((2,2))(x)\n",
        "\n",
        "x = Conv2D(32, (3,3), activation='relu', padding='same')(x)\n",
        "\n",
        "x = UpSampling2D((2,2))(x)\n",
        "\n",
        "decoded = Conv2D(1, (3,3), activation='sigmoid', padding='same')(x)"
      ],
      "execution_count": 9,
      "outputs": []
    },
    {
      "cell_type": "markdown",
      "metadata": {
        "id": "etF05T9d5Lpa"
      },
      "source": [
        "Modelin Derlenmesi ve Eğitilmesi"
      ]
    },
    {
      "cell_type": "code",
      "metadata": {
        "id": "RJ1hj6AH5OKz"
      },
      "source": [
        "autoencoder = Model(input_img, decoded)\n",
        "autoencoder.compile(optimizer='adadelta', loss='binary_crossentropy')"
      ],
      "execution_count": 10,
      "outputs": []
    },
    {
      "cell_type": "code",
      "metadata": {
        "id": "hz2YiK0iZ8NA",
        "colab": {
          "base_uri": "https://localhost:8080/"
        },
        "outputId": "80d1dc37-8fdb-4126-dc00-53b5b74f13ab"
      },
      "source": [
        "autoencoder.fit(x_train_noisy, x_train,\n",
        "                epochs=100,\n",
        "                batch_size=128,\n",
        "                shuffle=True,\n",
        "                validation_data=(x_test_noisy, x_test),\n",
        "                callbacks=[TensorBoard(log_dir='/tmp/tb', histogram_freq=0, write_graph=False)])\n",
        "\n",
        "decoded_imgs = autoencoder.predict(x_test)"
      ],
      "execution_count": 12,
      "outputs": [
        {
          "output_type": "stream",
          "name": "stdout",
          "text": [
            "Epoch 1/100\n",
            "469/469 [==============================] - 4s 8ms/step - loss: 0.4359 - val_loss: 0.4312\n",
            "Epoch 2/100\n",
            "469/469 [==============================] - 4s 9ms/step - loss: 0.4199 - val_loss: 0.4132\n",
            "Epoch 3/100\n",
            "469/469 [==============================] - 3s 6ms/step - loss: 0.4002 - val_loss: 0.3909\n",
            "Epoch 4/100\n",
            "469/469 [==============================] - 3s 7ms/step - loss: 0.3760 - val_loss: 0.3641\n",
            "Epoch 5/100\n",
            "469/469 [==============================] - 3s 7ms/step - loss: 0.3478 - val_loss: 0.3340\n",
            "Epoch 6/100\n",
            "469/469 [==============================] - 3s 6ms/step - loss: 0.3182 - val_loss: 0.3050\n",
            "Epoch 7/100\n",
            "469/469 [==============================] - 3s 6ms/step - loss: 0.2917 - val_loss: 0.2806\n",
            "Epoch 8/100\n",
            "469/469 [==============================] - 3s 6ms/step - loss: 0.2704 - val_loss: 0.2618\n",
            "Epoch 9/100\n",
            "469/469 [==============================] - 3s 7ms/step - loss: 0.2546 - val_loss: 0.2484\n",
            "Epoch 10/100\n",
            "469/469 [==============================] - 3s 6ms/step - loss: 0.2435 - val_loss: 0.2390\n",
            "Epoch 11/100\n",
            "469/469 [==============================] - 3s 6ms/step - loss: 0.2356 - val_loss: 0.2319\n",
            "Epoch 12/100\n",
            "469/469 [==============================] - 3s 6ms/step - loss: 0.2294 - val_loss: 0.2263\n",
            "Epoch 13/100\n",
            "469/469 [==============================] - 3s 7ms/step - loss: 0.2242 - val_loss: 0.2214\n",
            "Epoch 14/100\n",
            "469/469 [==============================] - 3s 6ms/step - loss: 0.2197 - val_loss: 0.2171\n",
            "Epoch 15/100\n",
            "469/469 [==============================] - 3s 6ms/step - loss: 0.2156 - val_loss: 0.2130\n",
            "Epoch 16/100\n",
            "469/469 [==============================] - 3s 6ms/step - loss: 0.2117 - val_loss: 0.2092\n",
            "Epoch 17/100\n",
            "469/469 [==============================] - 3s 7ms/step - loss: 0.2080 - val_loss: 0.2056\n",
            "Epoch 18/100\n",
            "469/469 [==============================] - 3s 6ms/step - loss: 0.2045 - val_loss: 0.2022\n",
            "Epoch 19/100\n",
            "469/469 [==============================] - 3s 6ms/step - loss: 0.2013 - val_loss: 0.1991\n",
            "Epoch 20/100\n",
            "469/469 [==============================] - 3s 6ms/step - loss: 0.1983 - val_loss: 0.1961\n",
            "Epoch 21/100\n",
            "469/469 [==============================] - 3s 7ms/step - loss: 0.1956 - val_loss: 0.1934\n",
            "Epoch 22/100\n",
            "469/469 [==============================] - 3s 7ms/step - loss: 0.1930 - val_loss: 0.1909\n",
            "Epoch 23/100\n",
            "469/469 [==============================] - 3s 6ms/step - loss: 0.1906 - val_loss: 0.1886\n",
            "Epoch 24/100\n",
            "469/469 [==============================] - 3s 6ms/step - loss: 0.1884 - val_loss: 0.1864\n",
            "Epoch 25/100\n",
            "469/469 [==============================] - 3s 7ms/step - loss: 0.1863 - val_loss: 0.1844\n",
            "Epoch 26/100\n",
            "469/469 [==============================] - 3s 7ms/step - loss: 0.1844 - val_loss: 0.1826\n",
            "Epoch 27/100\n",
            "469/469 [==============================] - 3s 6ms/step - loss: 0.1827 - val_loss: 0.1809\n",
            "Epoch 28/100\n",
            "469/469 [==============================] - 3s 6ms/step - loss: 0.1811 - val_loss: 0.1793\n",
            "Epoch 29/100\n",
            "469/469 [==============================] - 3s 6ms/step - loss: 0.1796 - val_loss: 0.1779\n",
            "Epoch 30/100\n",
            "469/469 [==============================] - 3s 7ms/step - loss: 0.1783 - val_loss: 0.1766\n",
            "Epoch 31/100\n",
            "469/469 [==============================] - 3s 6ms/step - loss: 0.1770 - val_loss: 0.1753\n",
            "Epoch 32/100\n",
            "469/469 [==============================] - 3s 6ms/step - loss: 0.1758 - val_loss: 0.1742\n",
            "Epoch 33/100\n",
            "469/469 [==============================] - 3s 6ms/step - loss: 0.1747 - val_loss: 0.1731\n",
            "Epoch 34/100\n",
            "469/469 [==============================] - 3s 7ms/step - loss: 0.1737 - val_loss: 0.1721\n",
            "Epoch 35/100\n",
            "469/469 [==============================] - 3s 7ms/step - loss: 0.1728 - val_loss: 0.1712\n",
            "Epoch 36/100\n",
            "469/469 [==============================] - 3s 6ms/step - loss: 0.1719 - val_loss: 0.1703\n",
            "Epoch 37/100\n",
            "469/469 [==============================] - 3s 6ms/step - loss: 0.1710 - val_loss: 0.1695\n",
            "Epoch 38/100\n",
            "469/469 [==============================] - 3s 7ms/step - loss: 0.1702 - val_loss: 0.1687\n",
            "Epoch 39/100\n",
            "469/469 [==============================] - 3s 7ms/step - loss: 0.1695 - val_loss: 0.1679\n",
            "Epoch 40/100\n",
            "469/469 [==============================] - 3s 6ms/step - loss: 0.1687 - val_loss: 0.1672\n",
            "Epoch 41/100\n",
            "469/469 [==============================] - 3s 6ms/step - loss: 0.1680 - val_loss: 0.1665\n",
            "Epoch 42/100\n",
            "469/469 [==============================] - 3s 7ms/step - loss: 0.1673 - val_loss: 0.1658\n",
            "Epoch 43/100\n",
            "469/469 [==============================] - 3s 7ms/step - loss: 0.1667 - val_loss: 0.1651\n",
            "Epoch 44/100\n",
            "469/469 [==============================] - 3s 6ms/step - loss: 0.1660 - val_loss: 0.1645\n",
            "Epoch 45/100\n",
            "469/469 [==============================] - 3s 6ms/step - loss: 0.1654 - val_loss: 0.1639\n",
            "Epoch 46/100\n",
            "469/469 [==============================] - 3s 6ms/step - loss: 0.1648 - val_loss: 0.1633\n",
            "Epoch 47/100\n",
            "469/469 [==============================] - 3s 7ms/step - loss: 0.1642 - val_loss: 0.1627\n",
            "Epoch 48/100\n",
            "469/469 [==============================] - 3s 6ms/step - loss: 0.1636 - val_loss: 0.1621\n",
            "Epoch 49/100\n",
            "469/469 [==============================] - 3s 6ms/step - loss: 0.1630 - val_loss: 0.1615\n",
            "Epoch 50/100\n",
            "469/469 [==============================] - 3s 6ms/step - loss: 0.1625 - val_loss: 0.1610\n",
            "Epoch 51/100\n",
            "469/469 [==============================] - 3s 7ms/step - loss: 0.1619 - val_loss: 0.1604\n",
            "Epoch 52/100\n",
            "469/469 [==============================] - 3s 6ms/step - loss: 0.1614 - val_loss: 0.1598\n",
            "Epoch 53/100\n",
            "469/469 [==============================] - 3s 6ms/step - loss: 0.1608 - val_loss: 0.1593\n",
            "Epoch 54/100\n",
            "469/469 [==============================] - 3s 6ms/step - loss: 0.1603 - val_loss: 0.1588\n",
            "Epoch 55/100\n",
            "469/469 [==============================] - 3s 7ms/step - loss: 0.1598 - val_loss: 0.1583\n",
            "Epoch 56/100\n",
            "469/469 [==============================] - 3s 6ms/step - loss: 0.1593 - val_loss: 0.1578\n",
            "Epoch 57/100\n",
            "469/469 [==============================] - 3s 6ms/step - loss: 0.1588 - val_loss: 0.1573\n",
            "Epoch 58/100\n",
            "469/469 [==============================] - 3s 6ms/step - loss: 0.1583 - val_loss: 0.1568\n",
            "Epoch 59/100\n",
            "469/469 [==============================] - 3s 7ms/step - loss: 0.1578 - val_loss: 0.1563\n",
            "Epoch 60/100\n",
            "469/469 [==============================] - 3s 7ms/step - loss: 0.1574 - val_loss: 0.1558\n",
            "Epoch 61/100\n",
            "469/469 [==============================] - 3s 6ms/step - loss: 0.1569 - val_loss: 0.1553\n",
            "Epoch 62/100\n",
            "469/469 [==============================] - 3s 6ms/step - loss: 0.1564 - val_loss: 0.1548\n",
            "Epoch 63/100\n",
            "469/469 [==============================] - 3s 6ms/step - loss: 0.1559 - val_loss: 0.1544\n",
            "Epoch 64/100\n",
            "469/469 [==============================] - 3s 7ms/step - loss: 0.1555 - val_loss: 0.1539\n",
            "Epoch 65/100\n",
            "469/469 [==============================] - 3s 6ms/step - loss: 0.1550 - val_loss: 0.1535\n",
            "Epoch 66/100\n",
            "469/469 [==============================] - 3s 6ms/step - loss: 0.1546 - val_loss: 0.1530\n",
            "Epoch 67/100\n",
            "469/469 [==============================] - 3s 6ms/step - loss: 0.1542 - val_loss: 0.1526\n",
            "Epoch 68/100\n",
            "469/469 [==============================] - 3s 7ms/step - loss: 0.1537 - val_loss: 0.1522\n",
            "Epoch 69/100\n",
            "469/469 [==============================] - 3s 6ms/step - loss: 0.1533 - val_loss: 0.1517\n",
            "Epoch 70/100\n",
            "469/469 [==============================] - 3s 7ms/step - loss: 0.1529 - val_loss: 0.1513\n",
            "Epoch 71/100\n",
            "469/469 [==============================] - 3s 6ms/step - loss: 0.1525 - val_loss: 0.1509\n",
            "Epoch 72/100\n",
            "469/469 [==============================] - 4s 8ms/step - loss: 0.1521 - val_loss: 0.1505\n",
            "Epoch 73/100\n",
            "469/469 [==============================] - 3s 6ms/step - loss: 0.1517 - val_loss: 0.1501\n",
            "Epoch 74/100\n",
            "469/469 [==============================] - 3s 7ms/step - loss: 0.1513 - val_loss: 0.1497\n",
            "Epoch 75/100\n",
            "469/469 [==============================] - 3s 6ms/step - loss: 0.1509 - val_loss: 0.1493\n",
            "Epoch 76/100\n",
            "469/469 [==============================] - 3s 7ms/step - loss: 0.1505 - val_loss: 0.1489\n",
            "Epoch 77/100\n",
            "469/469 [==============================] - 3s 6ms/step - loss: 0.1502 - val_loss: 0.1485\n",
            "Epoch 78/100\n",
            "469/469 [==============================] - 3s 7ms/step - loss: 0.1498 - val_loss: 0.1482\n",
            "Epoch 79/100\n",
            "469/469 [==============================] - 3s 6ms/step - loss: 0.1494 - val_loss: 0.1478\n",
            "Epoch 80/100\n",
            "469/469 [==============================] - 3s 7ms/step - loss: 0.1490 - val_loss: 0.1474\n",
            "Epoch 81/100\n",
            "469/469 [==============================] - 3s 7ms/step - loss: 0.1487 - val_loss: 0.1470\n",
            "Epoch 82/100\n",
            "469/469 [==============================] - 3s 6ms/step - loss: 0.1483 - val_loss: 0.1467\n",
            "Epoch 83/100\n",
            "469/469 [==============================] - 3s 6ms/step - loss: 0.1480 - val_loss: 0.1463\n",
            "Epoch 84/100\n",
            "469/469 [==============================] - 3s 7ms/step - loss: 0.1476 - val_loss: 0.1460\n",
            "Epoch 85/100\n",
            "469/469 [==============================] - 3s 7ms/step - loss: 0.1473 - val_loss: 0.1457\n",
            "Epoch 86/100\n",
            "469/469 [==============================] - 3s 6ms/step - loss: 0.1470 - val_loss: 0.1453\n",
            "Epoch 87/100\n",
            "469/469 [==============================] - 3s 6ms/step - loss: 0.1467 - val_loss: 0.1450\n",
            "Epoch 88/100\n",
            "469/469 [==============================] - 3s 6ms/step - loss: 0.1464 - val_loss: 0.1447\n",
            "Epoch 89/100\n",
            "469/469 [==============================] - 3s 7ms/step - loss: 0.1460 - val_loss: 0.1444\n",
            "Epoch 90/100\n",
            "469/469 [==============================] - 3s 6ms/step - loss: 0.1457 - val_loss: 0.1441\n",
            "Epoch 91/100\n",
            "469/469 [==============================] - 3s 6ms/step - loss: 0.1454 - val_loss: 0.1438\n",
            "Epoch 92/100\n",
            "469/469 [==============================] - 3s 6ms/step - loss: 0.1452 - val_loss: 0.1435\n",
            "Epoch 93/100\n",
            "469/469 [==============================] - 4s 8ms/step - loss: 0.1449 - val_loss: 0.1432\n",
            "Epoch 94/100\n",
            "469/469 [==============================] - 3s 6ms/step - loss: 0.1446 - val_loss: 0.1429\n",
            "Epoch 95/100\n",
            "469/469 [==============================] - 3s 6ms/step - loss: 0.1443 - val_loss: 0.1427\n",
            "Epoch 96/100\n",
            "469/469 [==============================] - 3s 6ms/step - loss: 0.1440 - val_loss: 0.1424\n",
            "Epoch 97/100\n",
            "469/469 [==============================] - 4s 8ms/step - loss: 0.1438 - val_loss: 0.1421\n",
            "Epoch 98/100\n",
            "469/469 [==============================] - 3s 6ms/step - loss: 0.1435 - val_loss: 0.1418\n",
            "Epoch 99/100\n",
            "469/469 [==============================] - 3s 6ms/step - loss: 0.1433 - val_loss: 0.1416\n",
            "Epoch 100/100\n",
            "469/469 [==============================] - 3s 6ms/step - loss: 0.1430 - val_loss: 0.1413\n",
            "313/313 [==============================] - 1s 2ms/step\n"
          ]
        }
      ]
    },
    {
      "cell_type": "markdown",
      "metadata": {
        "id": "o8sZbean5SpA"
      },
      "source": [
        "Sonuçların Görselleştirilmesi"
      ]
    },
    {
      "cell_type": "code",
      "source": [
        "%matplotlib inline\n",
        "n = 10\n",
        "plt.figure(figsize=(25, 4))\n",
        "for i in range(n):\n",
        "  # Yeniden yapılandırmayı ekranda göster\n",
        "  ax = plt.subplot(2, n, i+1)\n",
        "  plt.imshow(decoded_imgs[i].reshape(28, 28))\n",
        "  plt.gray()\n",
        "  ax.get_xaxis().set_visible(False)\n",
        "  ax.get_yaxis().set_visible(False)\n",
        "plt.show()\n",
        "print(\"Denoised - Gürültü Bastırılmış Görüntü\")"
      ],
      "metadata": {
        "colab": {
          "base_uri": "https://localhost:8080/",
          "height": 141
        },
        "id": "vBJKRBl5w8Hf",
        "outputId": "7a38afca-c2dd-486f-9dec-9511fa961dd0"
      },
      "execution_count": 13,
      "outputs": [
        {
          "output_type": "display_data",
          "data": {
            "text/plain": [
              "<Figure size 2500x400 with 10 Axes>"
            ],
            "image/png": "[encoded data removed]"
          },
          "metadata": {}
        },
        {
          "output_type": "stream",
          "name": "stdout",
          "text": [
            "Denoised - Gürültü Bastırılmış Görüntü\n"
          ]
        }
      ]
    }
  ]
}